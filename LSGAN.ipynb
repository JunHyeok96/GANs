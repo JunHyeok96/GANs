{
 "cells": [
  {
   "cell_type": "code",
   "execution_count": 3,
   "metadata": {},
   "outputs": [],
   "source": [
    "import tensorflow as tf \n",
    "\n",
    "mse = tf.losses.MeanSquaredError()\n",
    "\n",
    "\n",
    "def d_loss(r_logit, f_logit):\n",
    "    r_loss = mse(tf.ones_like(r_logit), r_logit)\n",
    "    f_loss = mse(tf.zeros_like(f_logit), f_logit)\n",
    "    return r_loss + f_loss\n",
    "\n",
    "def g_loss(f_logit):\n",
    "    f_loss = mse(tf.ones_like(f_logit), f_logit)\n",
    "    return f_loss\n"
   ]
  },
  {
   "cell_type": "code",
   "execution_count": null,
   "metadata": {},
   "outputs": [],
   "source": []
  }
 ],
 "metadata": {
  "kernelspec": {
   "display_name": "tensorflow2",
   "language": "python",
   "name": "tf2"
  },
  "language_info": {
   "codemirror_mode": {
    "name": "ipython",
    "version": 3
   },
   "file_extension": ".py",
   "mimetype": "text/x-python",
   "name": "python",
   "nbconvert_exporter": "python",
   "pygments_lexer": "ipython3",
   "version": "3.7.7"
  }
 },
 "nbformat": 4,
 "nbformat_minor": 4
}
